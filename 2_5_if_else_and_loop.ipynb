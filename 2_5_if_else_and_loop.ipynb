{
  "nbformat": 4,
  "nbformat_minor": 0,
  "metadata": {
    "colab": {
      "provenance": [],
      "authorship_tag": "ABX9TyM1gvCYYpwiAWQxTxHvdlvs",
      "include_colab_link": true
    },
    "kernelspec": {
      "name": "python3",
      "display_name": "Python 3"
    },
    "language_info": {
      "name": "python"
    }
  },
  "cells": [
    {
      "cell_type": "markdown",
      "metadata": {
        "id": "view-in-github",
        "colab_type": "text"
      },
      "source": [
        "<a href=\"https://colab.research.google.com/github/maria2021831011/machine_learning/blob/main/2_5_if_else_and_loop.ipynb\" target=\"_parent\"><img src=\"https://colab.research.google.com/assets/colab-badge.svg\" alt=\"Open In Colab\"/></a>"
      ]
    },
    {
      "cell_type": "code",
      "execution_count": null,
      "metadata": {
        "id": "YKL9SD5-4iTN"
      },
      "outputs": [],
      "source": []
    },
    {
      "cell_type": "markdown",
      "source": [
        "#if"
      ],
      "metadata": {
        "id": "C4P9fUQa40Ny"
      }
    },
    {
      "cell_type": "code",
      "source": [
        "a=int(input(\"a: \"))\n",
        "b=int(input(\"b: \"))\n",
        "if(a>b):\n",
        "  print(\"a big\")\n",
        "else:\n",
        "  print(\"b big\")\n"
      ],
      "metadata": {
        "colab": {
          "base_uri": "https://localhost:8080/"
        },
        "id": "xTAABQjs41Ej",
        "outputId": "813b83cc-4c94-485e-a351-0c5391a7dd60"
      },
      "execution_count": 4,
      "outputs": [
        {
          "output_type": "stream",
          "name": "stdout",
          "text": [
            "a: 6\n",
            "b: 4\n",
            "a big\n"
          ]
        }
      ]
    },
    {
      "cell_type": "markdown",
      "source": [
        "#nested and elif multiple\n"
      ],
      "metadata": {
        "id": "GBCb0h9Y6E6u"
      }
    },
    {
      "cell_type": "code",
      "source": [],
      "metadata": {
        "id": "TCrEOLO56JTg"
      },
      "execution_count": null,
      "outputs": []
    },
    {
      "cell_type": "markdown",
      "source": [
        "#loop start"
      ],
      "metadata": {
        "id": "JFcete8M6qZ2"
      }
    },
    {
      "cell_type": "code",
      "source": [
        "for i in range(10):\n",
        "  a=int(input(\"a:  \"))"
      ],
      "metadata": {
        "colab": {
          "base_uri": "https://localhost:8080/"
        },
        "id": "mI4EOiR76tqe",
        "outputId": "46248aec-cc03-4054-a17b-c50b98560a8d"
      },
      "execution_count": 8,
      "outputs": [
        {
          "name": "stdout",
          "output_type": "stream",
          "text": [
            "a:  1\n",
            "a:  2\n",
            "a:  3\n",
            "a:  4\n",
            "a:  5\n",
            "a:  6\n",
            "a:  7\n",
            "a:  8\n",
            "a:  9\n",
            "a:  10\n"
          ]
        }
      ]
    },
    {
      "cell_type": "markdown",
      "source": [
        "#print"
      ],
      "metadata": {
        "id": "tAo-UkgH7nqc"
      }
    },
    {
      "cell_type": "code",
      "source": [
        "a=[1,2,3,4,5]\n",
        "for i in a:\n",
        "  print(i)"
      ],
      "metadata": {
        "colab": {
          "base_uri": "https://localhost:8080/"
        },
        "id": "B_tdrUph7pOU",
        "outputId": "c9bc4886-8087-4b7d-b346-dae02280fe2a"
      },
      "execution_count": 9,
      "outputs": [
        {
          "output_type": "stream",
          "name": "stdout",
          "text": [
            "1\n",
            "2\n",
            "3\n",
            "4\n",
            "5\n"
          ]
        }
      ]
    },
    {
      "cell_type": "markdown",
      "source": [
        "#while"
      ],
      "metadata": {
        "id": "hwEa0hEA7wz0"
      }
    },
    {
      "cell_type": "code",
      "source": [
        "i=1\n",
        "while i<10:\n",
        "  print(i)\n",
        "  i+=1"
      ],
      "metadata": {
        "colab": {
          "base_uri": "https://localhost:8080/"
        },
        "id": "1zHSd_5g7xvr",
        "outputId": "f60ad00a-aca7-4efb-fd97-f2caf9c468cd"
      },
      "execution_count": 10,
      "outputs": [
        {
          "output_type": "stream",
          "name": "stdout",
          "text": [
            "1\n",
            "2\n",
            "3\n",
            "4\n",
            "5\n",
            "6\n",
            "7\n",
            "8\n",
            "9\n"
          ]
        }
      ]
    }
  ]
}