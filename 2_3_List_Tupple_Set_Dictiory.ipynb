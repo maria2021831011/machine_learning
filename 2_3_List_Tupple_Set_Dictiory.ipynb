{
  "nbformat": 4,
  "nbformat_minor": 0,
  "metadata": {
    "colab": {
      "provenance": [],
      "authorship_tag": "ABX9TyPs+qay5bI30YfDdbkCselc",
      "include_colab_link": true
    },
    "kernelspec": {
      "name": "python3",
      "display_name": "Python 3"
    },
    "language_info": {
      "name": "python"
    }
  },
  "cells": [
    {
      "cell_type": "markdown",
      "metadata": {
        "id": "view-in-github",
        "colab_type": "text"
      },
      "source": [
        "<a href=\"https://colab.research.google.com/github/maria2021831011/machine_learning/blob/main/2_3_List_Tupple_Set_Dictiory.ipynb\" target=\"_parent\"><img src=\"https://colab.research.google.com/assets/colab-badge.svg\" alt=\"Open In Colab\"/></a>"
      ]
    },
    {
      "cell_type": "code",
      "execution_count": null,
      "metadata": {
        "id": "PiPaOIw9kwzV"
      },
      "outputs": [],
      "source": []
    },
    {
      "cell_type": "markdown",
      "source": [
        "#type of object in python\n",
        "#1.immutable\n",
        "#2.muttable\n",
        "\n",
        "\n",
        "#immutable\n",
        "#1.int\n",
        "#2.float\n",
        "#3.string\n",
        "#4.bool\n",
        "#5.tupple\n",
        "\n",
        "#muttable\n",
        "#1.list\n",
        "#2.dictionary\n",
        "#3.set"
      ],
      "metadata": {
        "id": "98pbJTMMk_ay"
      }
    },
    {
      "cell_type": "markdown",
      "source": [
        "#list should be multiple and 3rd bracket"
      ],
      "metadata": {
        "id": "VQt4AKTKmayT"
      }
    },
    {
      "cell_type": "code",
      "source": [
        "l=[1,2,3,4,\"hi\",bool]\n",
        "print(l)"
      ],
      "metadata": {
        "colab": {
          "base_uri": "https://localhost:8080/"
        },
        "id": "6Sq04p0ul3fp",
        "outputId": "f42ef2c1-2c58-452c-c7ef-f3f615643197"
      },
      "execution_count": 1,
      "outputs": [
        {
          "output_type": "stream",
          "name": "stdout",
          "text": [
            "[1, 2, 3, 4, 'hi', <class 'bool'>]\n"
          ]
        }
      ]
    },
    {
      "cell_type": "markdown",
      "source": [
        "#list can be change"
      ],
      "metadata": {
        "id": "MbYe0IzAmodL"
      }
    },
    {
      "cell_type": "code",
      "source": [
        "l=[1,2,3,4,5,3]\n",
        "l.append(8)\n",
        "print(l)"
      ],
      "metadata": {
        "colab": {
          "base_uri": "https://localhost:8080/"
        },
        "id": "ncxMF9iumrwx",
        "outputId": "20bc3a0d-7c2a-46d7-ecc9-d718808ec6e7"
      },
      "execution_count": 2,
      "outputs": [
        {
          "output_type": "stream",
          "name": "stdout",
          "text": [
            "[1, 2, 3, 4, 5, 3, 8]\n"
          ]
        }
      ]
    },
    {
      "cell_type": "markdown",
      "source": [
        "#list allow multiple and ind and size"
      ],
      "metadata": {
        "id": "JRtiYGSKnSfK"
      }
    },
    {
      "cell_type": "code",
      "source": [
        "l=[1,2,3,4,5,3]\n",
        "print(l[0])\n",
        "print(len(l))\n",
        "k=[1,1,1,1,]\n",
        "print(k)"
      ],
      "metadata": {
        "colab": {
          "base_uri": "https://localhost:8080/"
        },
        "id": "NRF_CsNqnYrq",
        "outputId": "c082b362-667a-443d-dd32-16a557fd6ff7"
      },
      "execution_count": 3,
      "outputs": [
        {
          "output_type": "stream",
          "name": "stdout",
          "text": [
            "1\n",
            "6\n",
            "[1, 1, 1, 1]\n"
          ]
        }
      ]
    },
    {
      "cell_type": "markdown",
      "source": [
        "#list insert delete add"
      ],
      "metadata": {
        "id": "DZFsVU0SoQ3K"
      }
    },
    {
      "cell_type": "code",
      "source": [
        "l1=[]\n",
        "print(l1)\n",
        "l1.append(1)\n",
        "print(l1)\n",
        "del l1[0]\n",
        "print(l1)\n",
        "s=[1,2,3]\n",
        "p=[4,5,6]\n",
        "d=s+p\n",
        "print(d)"
      ],
      "metadata": {
        "colab": {
          "base_uri": "https://localhost:8080/"
        },
        "id": "vzo_IRz5oUAR",
        "outputId": "d04e2983-8b34-409e-b235-471f1541a99a"
      },
      "execution_count": 4,
      "outputs": [
        {
          "output_type": "stream",
          "name": "stdout",
          "text": [
            "[]\n",
            "[1]\n",
            "[]\n",
            "[1, 2, 3, 4, 5, 6]\n"
          ]
        }
      ]
    },
    {
      "cell_type": "markdown",
      "source": [
        "#tupple allow multiple use 1st brac convert from list"
      ],
      "metadata": {
        "id": "sEOTPX-Wo_yy"
      }
    },
    {
      "cell_type": "code",
      "source": [
        "k=(1,2,3,\"jij\")\n",
        "print(k)\n",
        "list=[1,2,9]\n",
        "print(list)\n",
        "l=tuple(list)\n",
        "print(l)"
      ],
      "metadata": {
        "colab": {
          "base_uri": "https://localhost:8080/"
        },
        "id": "ZBCo78mXpF7B",
        "outputId": "2dedbf20-ba30-4656-9eb8-6a3ccee08543"
      },
      "execution_count": 6,
      "outputs": [
        {
          "output_type": "stream",
          "name": "stdout",
          "text": [
            "(1, 2, 3, 'jij')\n",
            "[1, 2, 9]\n",
            "(1, 2, 9)\n"
          ]
        }
      ]
    },
    {
      "cell_type": "markdown",
      "source": [
        "#tupple not use append and index use"
      ],
      "metadata": {
        "id": "ykWHg1SFp75K"
      }
    },
    {
      "cell_type": "code",
      "source": [
        "T=(1,2,3,3)\n",
        "print(T[0])\n",
        "print(len(T))"
      ],
      "metadata": {
        "colab": {
          "base_uri": "https://localhost:8080/"
        },
        "id": "1eIcweSSqASB",
        "outputId": "a6390147-5342-4775-c6a9-19caa1c789ad"
      },
      "execution_count": 7,
      "outputs": [
        {
          "output_type": "stream",
          "name": "stdout",
          "text": [
            "1\n",
            "4\n"
          ]
        }
      ]
    },
    {
      "cell_type": "markdown",
      "source": [
        "# set not use index and use 2nd brac"
      ],
      "metadata": {
        "id": "JR8MIPqhqQSJ"
      }
    },
    {
      "cell_type": "code",
      "source": [
        "s={1,2,3}\n",
        "print(s)\n",
        "#convert list to set and unique val\n",
        "l=[1,2,3,4]\n",
        "s=set(l)\n",
        "print(s)\n",
        "s={1,2,3,4,5,5,5,5}\n",
        "\n",
        "print(s)"
      ],
      "metadata": {
        "colab": {
          "base_uri": "https://localhost:8080/"
        },
        "id": "JjcZNL3OqVJp",
        "outputId": "08725522-1973-48e3-ca08-b21a1bb9c5e7"
      },
      "execution_count": 9,
      "outputs": [
        {
          "output_type": "stream",
          "name": "stdout",
          "text": [
            "{1, 2, 3}\n",
            "{1, 2, 3, 4}\n",
            "{1, 2, 3, 4, 5}\n"
          ]
        }
      ]
    },
    {
      "cell_type": "markdown",
      "source": [
        "#dictionary\n",
        "#not multiple value& use key value"
      ],
      "metadata": {
        "id": "dUJA6c_6rTPb"
      }
    },
    {
      "cell_type": "code",
      "source": [
        "d={'name':'maria','age':'23'}\n",
        "print(d)\n",
        "print(d['name'])"
      ],
      "metadata": {
        "colab": {
          "base_uri": "https://localhost:8080/"
        },
        "id": "HMrPLimhraIx",
        "outputId": "ccd3db73-978f-4137-eabb-d5c6fa1f9e14"
      },
      "execution_count": 10,
      "outputs": [
        {
          "output_type": "stream",
          "name": "stdout",
          "text": [
            "{'name': 'maria', 'age': '23'}\n",
            "maria\n"
          ]
        }
      ]
    }
  ]
}