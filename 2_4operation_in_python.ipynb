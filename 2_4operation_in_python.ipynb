{
  "nbformat": 4,
  "nbformat_minor": 0,
  "metadata": {
    "colab": {
      "provenance": [],
      "authorship_tag": "ABX9TyPtuYLGju2145yiQh02mGiv",
      "include_colab_link": true
    },
    "kernelspec": {
      "name": "python3",
      "display_name": "Python 3"
    },
    "language_info": {
      "name": "python"
    }
  },
  "cells": [
    {
      "cell_type": "markdown",
      "metadata": {
        "id": "view-in-github",
        "colab_type": "text"
      },
      "source": [
        "<a href=\"https://colab.research.google.com/github/maria2021831011/machine_learning/blob/main/2_4operation_in_python.ipynb\" target=\"_parent\"><img src=\"https://colab.research.google.com/assets/colab-badge.svg\" alt=\"Open In Colab\"/></a>"
      ]
    },
    {
      "cell_type": "code",
      "execution_count": null,
      "metadata": {
        "id": "0j0Qa0p0z-x_"
      },
      "outputs": [],
      "source": []
    },
    {
      "cell_type": "markdown",
      "source": [
        "#arithmatic operators"
      ],
      "metadata": {
        "id": "UryIyeJf0cOi"
      }
    },
    {
      "cell_type": "code",
      "source": [
        "#add\n",
        "n1=4\n",
        "n2=3\n",
        "sum=n1+n2\n",
        "print(\"add: \" ,sum)\n",
        "#sub\n",
        "sub=n1-n2;\n",
        "print(\"sub:\",sub)\n",
        "#mul\n",
        "mul=n1*n2\n",
        "print(\"mul:\",mul)\n",
        "#div\n",
        "div=n1/n2\n",
        "print(\"div\",div)\n",
        "#mud\n",
        "mod=n1%n2\n",
        "print(\"mod\",mod)\n",
        "#exp\n",
        "exp=n1**n2\n",
        "print(\"exp:\",exp)"
      ],
      "metadata": {
        "colab": {
          "base_uri": "https://localhost:8080/"
        },
        "id": "uAAkP3FO0enh",
        "outputId": "5996bcec-c200-48e0-8a07-80d2e45015a7"
      },
      "execution_count": 4,
      "outputs": [
        {
          "output_type": "stream",
          "name": "stdout",
          "text": [
            "add:  7\n",
            "sub: 1\n",
            "mul: 12\n",
            "div 1.3333333333333333\n",
            "mod 1\n",
            "exp: 64\n"
          ]
        }
      ]
    },
    {
      "cell_type": "markdown",
      "source": [
        "#assignment operator"
      ],
      "metadata": {
        "id": "zhpe7Q2Z1uW-"
      }
    },
    {
      "cell_type": "code",
      "source": [
        "#_=,+=,*=,/=,%=\n",
        "a=9\n",
        "a-=5\n",
        "print(a)\n",
        "b=5\n",
        "b+=b\n",
        "print(b)"
      ],
      "metadata": {
        "colab": {
          "base_uri": "https://localhost:8080/"
        },
        "id": "bjKrIcj91x2Z",
        "outputId": "17fff3d7-8821-455f-a9f2-296374674e6f"
      },
      "execution_count": 5,
      "outputs": [
        {
          "output_type": "stream",
          "name": "stdout",
          "text": [
            "4\n",
            "10\n"
          ]
        }
      ]
    },
    {
      "cell_type": "markdown",
      "source": [
        "#comparison"
      ],
      "metadata": {
        "id": "FtsPrEfs2L-f"
      }
    },
    {
      "cell_type": "code",
      "source": [
        "a=7\n",
        "b=9\n",
        "print(a==b)\n",
        "print(a!=b)\n",
        "print(a>=b)\n",
        "print(a<=b)\n",
        "print(a>b)\n",
        "print(a<b)"
      ],
      "metadata": {
        "colab": {
          "base_uri": "https://localhost:8080/"
        },
        "id": "MtnirgrH2Nsx",
        "outputId": "e5a55213-a19b-4eb7-e598-69abdf2aebe9"
      },
      "execution_count": 6,
      "outputs": [
        {
          "output_type": "stream",
          "name": "stdout",
          "text": [
            "False\n",
            "True\n",
            "False\n",
            "True\n",
            "False\n",
            "True\n"
          ]
        }
      ]
    },
    {
      "cell_type": "markdown",
      "source": [
        "#logical"
      ],
      "metadata": {
        "id": "YLlLRYdO2zPT"
      }
    },
    {
      "cell_type": "code",
      "source": [
        "a=10\n",
        "print(a>10 and a<20)\n",
        "print(a>10 or a<15)\n",
        "print(not(a>1))"
      ],
      "metadata": {
        "colab": {
          "base_uri": "https://localhost:8080/"
        },
        "id": "gub9AODT20RA",
        "outputId": "2a9e9fd4-f1de-4722-cd4b-6d0279f984a6"
      },
      "execution_count": 7,
      "outputs": [
        {
          "output_type": "stream",
          "name": "stdout",
          "text": [
            "False\n",
            "True\n",
            "False\n"
          ]
        }
      ]
    },
    {
      "cell_type": "markdown",
      "source": [
        "#identity"
      ],
      "metadata": {
        "id": "hIahv08A3PqT"
      }
    },
    {
      "cell_type": "code",
      "source": [
        "a=3\n",
        "b=3\n",
        "print(a is b)\n",
        "print(a is not b)"
      ],
      "metadata": {
        "colab": {
          "base_uri": "https://localhost:8080/"
        },
        "id": "LlXhs5yo3Q1A",
        "outputId": "237b4cd6-eed6-4c89-9b48-d77918983a7f"
      },
      "execution_count": 8,
      "outputs": [
        {
          "output_type": "stream",
          "name": "stdout",
          "text": [
            "True\n",
            "False\n"
          ]
        }
      ]
    },
    {
      "cell_type": "markdown",
      "source": [
        "#membership"
      ],
      "metadata": {
        "id": "LyqRCELI3esO"
      }
    },
    {
      "cell_type": "code",
      "source": [
        "a=2\n",
        "b=[1,2,3,4]\n",
        "print(a in b)\n",
        "print(a not in b)"
      ],
      "metadata": {
        "colab": {
          "base_uri": "https://localhost:8080/"
        },
        "id": "weKmR69z3f9h",
        "outputId": "5555b04a-bf73-4a3b-8c00-48348d50a361"
      },
      "execution_count": 9,
      "outputs": [
        {
          "output_type": "stream",
          "name": "stdout",
          "text": [
            "True\n",
            "False\n"
          ]
        }
      ]
    }
  ]
}