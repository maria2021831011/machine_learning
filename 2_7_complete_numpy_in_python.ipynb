{
  "nbformat": 4,
  "nbformat_minor": 0,
  "metadata": {
    "colab": {
      "provenance": [],
      "authorship_tag": "ABX9TyNRYqU4T6BIRNAXweoV4N/o",
      "include_colab_link": true
    },
    "kernelspec": {
      "name": "python3",
      "display_name": "Python 3"
    },
    "language_info": {
      "name": "python"
    }
  },
  "cells": [
    {
      "cell_type": "markdown",
      "metadata": {
        "id": "view-in-github",
        "colab_type": "text"
      },
      "source": [
        "<a href=\"https://colab.research.google.com/github/maria2021831011/machine_learning/blob/main/2_7_complete_numpy_in_python.ipynb\" target=\"_parent\"><img src=\"https://colab.research.google.com/assets/colab-badge.svg\" alt=\"Open In Colab\"/></a>"
      ]
    },
    {
      "cell_type": "code",
      "execution_count": null,
      "metadata": {
        "id": "sBh_7stS0TKS"
      },
      "outputs": [],
      "source": []
    },
    {
      "cell_type": "markdown",
      "source": [
        "#numpy numerical python\n",
        "#advtg in\n",
        "#allows several mathematical operations\n",
        "#faster operation"
      ],
      "metadata": {
        "id": "uzzficRn0Zx5"
      }
    },
    {
      "cell_type": "code",
      "source": [
        "import numpy as np"
      ],
      "metadata": {
        "id": "b39AvY6_3AuL"
      },
      "execution_count": 2,
      "outputs": []
    },
    {
      "cell_type": "markdown",
      "source": [
        "#list vs numpy_time taken\n"
      ],
      "metadata": {
        "id": "yMLqzril3cV6"
      }
    },
    {
      "cell_type": "code",
      "source": [
        "from time import process_time"
      ],
      "metadata": {
        "id": "9jhSzCzR3Lj7"
      },
      "execution_count": 4,
      "outputs": []
    },
    {
      "cell_type": "markdown",
      "source": [
        "#list time"
      ],
      "metadata": {
        "id": "UInh70B_3hsT"
      }
    },
    {
      "cell_type": "code",
      "source": [
        "python_list=[i for i in range(10000)]\n",
        "start_time=process_time()\n",
        "python_list=[i+5 for i in python_list]\n",
        "end_time=process_time()\n",
        "print(end_time-start_time)"
      ],
      "metadata": {
        "colab": {
          "base_uri": "https://localhost:8080/"
        },
        "id": "RSkdLfRR3Qza",
        "outputId": "2c759e51-6d36-413f-b88a-5c8b9df597df"
      },
      "execution_count": 6,
      "outputs": [
        {
          "output_type": "stream",
          "name": "stdout",
          "text": [
            "0.0017742089999996935\n"
          ]
        }
      ]
    },
    {
      "cell_type": "code",
      "source": [
        "numpy_array=np.array([i for i in range(10000)])\n",
        "start_time=process_time()\n",
        "numpy_array+=5\n",
        "end_time=process_time()\n",
        "print(end_time-start_time)"
      ],
      "metadata": {
        "colab": {
          "base_uri": "https://localhost:8080/"
        },
        "id": "yjNexspD4C-0",
        "outputId": "18a8d206-a831-4ae5-bfeb-faee829043ac"
      },
      "execution_count": 8,
      "outputs": [
        {
          "output_type": "stream",
          "name": "stdout",
          "text": [
            "0.0013900260000001552\n"
          ]
        }
      ]
    },
    {
      "cell_type": "markdown",
      "source": [
        "#numpy arrays"
      ],
      "metadata": {
        "id": "l97M-FKV5IdS"
      }
    },
    {
      "cell_type": "code",
      "source": [
        "a=np.array([1,2,3,4,5])\n",
        "print(a)\n",
        "print(a.shape)\n",
        "print(type(a))"
      ],
      "metadata": {
        "colab": {
          "base_uri": "https://localhost:8080/"
        },
        "id": "qKGo0mzJ5Lnr",
        "outputId": "249e6d1f-9e86-42c7-f887-2d90e1e690d1"
      },
      "execution_count": 9,
      "outputs": [
        {
          "output_type": "stream",
          "name": "stdout",
          "text": [
            "[1 2 3 4 5]\n",
            "(5,)\n",
            "<class 'numpy.ndarray'>\n"
          ]
        }
      ]
    },
    {
      "cell_type": "markdown",
      "source": [
        "#2d & type"
      ],
      "metadata": {
        "id": "nEmg6sVw5ueC"
      }
    },
    {
      "cell_type": "code",
      "source": [
        "b=np.array([(1,2,3,4),(5,6,7,8)],dtype=float)\n",
        "print(b)\n",
        "print(b.shape)\n"
      ],
      "metadata": {
        "colab": {
          "base_uri": "https://localhost:8080/"
        },
        "id": "SzYbO1Sv4gp2",
        "outputId": "f357e55d-422c-4198-8ee0-2d1ccf6af7dc"
      },
      "execution_count": 10,
      "outputs": [
        {
          "output_type": "stream",
          "name": "stdout",
          "text": [
            "[[1. 2. 3. 4.]\n",
            " [5. 6. 7. 8.]]\n",
            "(2, 4)\n"
          ]
        }
      ]
    },
    {
      "cell_type": "markdown",
      "source": [
        "#initial  placeholder in numpy arrays"
      ],
      "metadata": {
        "id": "Pb0uBWOY6crq"
      }
    },
    {
      "cell_type": "code",
      "source": [
        "c=np.zeros((4,5))\n",
        "print(c)"
      ],
      "metadata": {
        "colab": {
          "base_uri": "https://localhost:8080/"
        },
        "id": "LPxbxxQS6nA6",
        "outputId": "3666c8c5-ecac-4826-eb04-d90633af1f21"
      },
      "execution_count": 12,
      "outputs": [
        {
          "output_type": "stream",
          "name": "stdout",
          "text": [
            "[[0. 0. 0. 0. 0.]\n",
            " [0. 0. 0. 0. 0.]\n",
            " [0. 0. 0. 0. 0.]\n",
            " [0. 0. 0. 0. 0.]]\n"
          ]
        }
      ]
    },
    {
      "cell_type": "code",
      "source": [
        "#initialize one\n",
        "d=np.ones((3,3),dtype=int)\n",
        "print(d)\n"
      ],
      "metadata": {
        "colab": {
          "base_uri": "https://localhost:8080/"
        },
        "id": "244bLKEO64tl",
        "outputId": "4e0aee46-2ed1-4d3b-f84c-6c10b96dfb0a"
      },
      "execution_count": 14,
      "outputs": [
        {
          "output_type": "stream",
          "name": "stdout",
          "text": [
            "[[1 1 1]\n",
            " [1 1 1]\n",
            " [1 1 1]]\n"
          ]
        }
      ]
    },
    {
      "cell_type": "code",
      "source": [
        "#initialize particular value\n",
        "a=np.full((5,4),5)\n",
        "print(a)"
      ],
      "metadata": {
        "colab": {
          "base_uri": "https://localhost:8080/"
        },
        "id": "BieAFWNO7Bi7",
        "outputId": "2bd07c87-ea28-4031-b59d-cde09721cef8"
      },
      "execution_count": 16,
      "outputs": [
        {
          "output_type": "stream",
          "name": "stdout",
          "text": [
            "[[5 5 5 5]\n",
            " [5 5 5 5]\n",
            " [5 5 5 5]\n",
            " [5 5 5 5]\n",
            " [5 5 5 5]]\n"
          ]
        }
      ]
    },
    {
      "cell_type": "code",
      "source": [
        "#initialize identity matrix\n",
        "b=np.eye(5)\n",
        "print(b)"
      ],
      "metadata": {
        "colab": {
          "base_uri": "https://localhost:8080/"
        },
        "id": "w8JN2IpE7Y5y",
        "outputId": "923a72ff-9463-403d-bd17-65430d6ca6db"
      },
      "execution_count": 18,
      "outputs": [
        {
          "output_type": "stream",
          "name": "stdout",
          "text": [
            "[[1. 0. 0. 0. 0.]\n",
            " [0. 1. 0. 0. 0.]\n",
            " [0. 0. 1. 0. 0.]\n",
            " [0. 0. 0. 1. 0.]\n",
            " [0. 0. 0. 0. 1.]]\n"
          ]
        }
      ]
    },
    {
      "cell_type": "code",
      "source": [
        "#initialize random value\n",
        "e=np.random.random((3,4))\n",
        "print(e)"
      ],
      "metadata": {
        "colab": {
          "base_uri": "https://localhost:8080/"
        },
        "id": "KzEpIa507fEb",
        "outputId": "d46cd0a9-3ac4-4cc7-af66-1c0f8824e365"
      },
      "execution_count": 20,
      "outputs": [
        {
          "output_type": "stream",
          "name": "stdout",
          "text": [
            "[[0.58199403 0.54129121 0.05564562 0.47654673]\n",
            " [0.30930298 0.32042682 0.86986666 0.21781559]\n",
            " [0.69227497 0.90930498 0.0834481  0.65913031]]\n"
          ]
        }
      ]
    },
    {
      "cell_type": "code",
      "source": [
        "#random specific values arrays within range\n",
        "a=np.random.randint(10,100,(3,5))\n",
        "print(a)"
      ],
      "metadata": {
        "colab": {
          "base_uri": "https://localhost:8080/"
        },
        "id": "27qPUhsf8JJD",
        "outputId": "423dcb19-9114-42aa-a3bb-739b2fd8c4ff"
      },
      "execution_count": 22,
      "outputs": [
        {
          "output_type": "stream",
          "name": "stdout",
          "text": [
            "[[39 75 96 24 30]\n",
            " [57 28 95 58 87]\n",
            " [72 66 79 56 90]]\n"
          ]
        }
      ]
    },
    {
      "cell_type": "code",
      "source": [
        "#evenly spaced line\n",
        "a=np.linspace(10,30,6)\n",
        "print(a)"
      ],
      "metadata": {
        "colab": {
          "base_uri": "https://localhost:8080/"
        },
        "id": "VgcifBsk8TJj",
        "outputId": "a3e2adb0-09d9-4e15-eaf3-c8684bc085ac"
      },
      "execution_count": 24,
      "outputs": [
        {
          "output_type": "stream",
          "name": "stdout",
          "text": [
            "[10. 14. 18. 22. 26. 30.]\n"
          ]
        }
      ]
    },
    {
      "cell_type": "code",
      "source": [
        "#evenly specifying step\n",
        "a=np.arange(10,30,5)\n",
        "print(a)"
      ],
      "metadata": {
        "colab": {
          "base_uri": "https://localhost:8080/"
        },
        "id": "M8ZkNOp_8dnS",
        "outputId": "d3d422af-5564-4e71-8456-8c9bfb154c46"
      },
      "execution_count": 26,
      "outputs": [
        {
          "output_type": "stream",
          "name": "stdout",
          "text": [
            "[10 15 20 25]\n"
          ]
        }
      ]
    },
    {
      "cell_type": "markdown",
      "source": [
        "#list convert to numpy array"
      ],
      "metadata": {
        "id": "ANVyWim29Itb"
      }
    },
    {
      "cell_type": "code",
      "source": [
        "l=[10,20,30,40,50]\n",
        "print(l)\n",
        "print(type(l))\n",
        "a=np.asarray(l)\n",
        "print(a)\n",
        "print(type(a))"
      ],
      "metadata": {
        "colab": {
          "base_uri": "https://localhost:8080/"
        },
        "id": "lYKCGo7h9LUC",
        "outputId": "16dacb06-a210-4b3a-f509-d444571bd84b"
      },
      "execution_count": 27,
      "outputs": [
        {
          "output_type": "stream",
          "name": "stdout",
          "text": [
            "[10, 20, 30, 40, 50]\n",
            "<class 'list'>\n",
            "[10 20 30 40 50]\n",
            "<class 'numpy.ndarray'>\n"
          ]
        }
      ]
    },
    {
      "cell_type": "markdown",
      "source": [
        "#analyzing numpy"
      ],
      "metadata": {
        "id": "n0KWZWae93nC"
      }
    },
    {
      "cell_type": "code",
      "source": [
        "a=np.random.randint(10,90,(5,5))\n",
        "print(a)\n",
        "#rows col\n",
        "print(a.shape)\n",
        "#dimention\n",
        "print(a.ndim)\n",
        "#elements\n",
        "print(a.size)\n",
        "#elements type\n",
        "print(a.dtype)"
      ],
      "metadata": {
        "colab": {
          "base_uri": "https://localhost:8080/"
        },
        "id": "tgNvojeK957n",
        "outputId": "b8c57860-dbca-4b4b-9d9c-a672d2e054ff"
      },
      "execution_count": 28,
      "outputs": [
        {
          "output_type": "stream",
          "name": "stdout",
          "text": [
            "[[40 16 11 24 83]\n",
            " [52 35 79 81 75]\n",
            " [27 53 78 52 37]\n",
            " [32 26 23 51 18]\n",
            " [15 41 66 82 71]]\n",
            "(5, 5)\n",
            "2\n",
            "25\n",
            "int64\n"
          ]
        }
      ]
    },
    {
      "cell_type": "markdown",
      "source": [
        "#mathematical operation"
      ],
      "metadata": {
        "id": "2ynwx4FF_PaB"
      }
    },
    {
      "cell_type": "code",
      "source": [
        "a=np.random.randint(0,10,(3,3))\n",
        "b=np.random.randint(10,20,(3,3))\n",
        "print(a)\n",
        "print(b)\n",
        "print(a+b)\n",
        "print(a-b)\n",
        "print(a*b)\n",
        "print(a/b)"
      ],
      "metadata": {
        "colab": {
          "base_uri": "https://localhost:8080/"
        },
        "id": "QhYOJUNW_SUK",
        "outputId": "fcdbc073-efb2-4ebb-d892-af9c36d2b194"
      },
      "execution_count": 29,
      "outputs": [
        {
          "output_type": "stream",
          "name": "stdout",
          "text": [
            "[[9 4 7]\n",
            " [1 6 4]\n",
            " [3 4 4]]\n",
            "[[11 18 15]\n",
            " [15 14 15]\n",
            " [15 13 18]]\n",
            "[[20 22 22]\n",
            " [16 20 19]\n",
            " [18 17 22]]\n",
            "[[ -2 -14  -8]\n",
            " [-14  -8 -11]\n",
            " [-12  -9 -14]]\n",
            "[[ 99  72 105]\n",
            " [ 15  84  60]\n",
            " [ 45  52  72]]\n",
            "[[0.81818182 0.22222222 0.46666667]\n",
            " [0.06666667 0.42857143 0.26666667]\n",
            " [0.2        0.30769231 0.22222222]]\n"
          ]
        }
      ]
    },
    {
      "cell_type": "markdown",
      "source": [
        "#array transformation"
      ],
      "metadata": {
        "id": "UnU3hSO8A_7S"
      }
    },
    {
      "cell_type": "code",
      "source": [
        "a=np.random.randint(0,10,(2,3))\n",
        "print(a)\n",
        "print(a.shape)\n",
        "TRA=a.transpose()\n",
        "print(TRA)\n",
        "print(TRA.shape)"
      ],
      "metadata": {
        "colab": {
          "base_uri": "https://localhost:8080/"
        },
        "id": "-IXvCf_JBCeD",
        "outputId": "374b66f2-9ee2-44df-cbce-cde4ff23d16a"
      },
      "execution_count": 31,
      "outputs": [
        {
          "output_type": "stream",
          "name": "stdout",
          "text": [
            "[[5 8 9]\n",
            " [9 9 5]]\n",
            "(2, 3)\n",
            "[[5 9]\n",
            " [8 9]\n",
            " [9 5]]\n",
            "(3, 2)\n"
          ]
        }
      ]
    },
    {
      "cell_type": "code",
      "source": [
        "#RESIZE\n",
        "a=np.random.randint(0,10,(2,3))\n",
        "print(a)\n",
        "a.resize(3,2)\n",
        "print(a)"
      ],
      "metadata": {
        "colab": {
          "base_uri": "https://localhost:8080/"
        },
        "id": "AhtOaDK8CEjS",
        "outputId": "72df8ef6-6783-489e-aad1-672400514d05"
      },
      "execution_count": 32,
      "outputs": [
        {
          "output_type": "stream",
          "name": "stdout",
          "text": [
            "[[3 4 5]\n",
            " [4 2 3]]\n",
            "[[3 4]\n",
            " [5 4]\n",
            " [2 3]]\n"
          ]
        }
      ]
    }
  ]
}