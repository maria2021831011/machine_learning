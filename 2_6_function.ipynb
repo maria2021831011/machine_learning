{
  "nbformat": 4,
  "nbformat_minor": 0,
  "metadata": {
    "colab": {
      "provenance": [],
      "authorship_tag": "ABX9TyMgZEkojs8AXHGKUz05YZSk",
      "include_colab_link": true
    },
    "kernelspec": {
      "name": "python3",
      "display_name": "Python 3"
    },
    "language_info": {
      "name": "python"
    }
  },
  "cells": [
    {
      "cell_type": "markdown",
      "metadata": {
        "id": "view-in-github",
        "colab_type": "text"
      },
      "source": [
        "<a href=\"https://colab.research.google.com/github/maria2021831011/machine_learning/blob/main/2_6_function.ipynb\" target=\"_parent\"><img src=\"https://colab.research.google.com/assets/colab-badge.svg\" alt=\"Open In Colab\"/></a>"
      ]
    },
    {
      "cell_type": "code",
      "execution_count": 3,
      "metadata": {
        "colab": {
          "base_uri": "https://localhost:8080/"
        },
        "id": "8_Y2zLzb86Nf",
        "outputId": "ecb1e860-1c8b-4153-97d5-ab3aef82b48a"
      },
      "outputs": [
        {
          "output_type": "stream",
          "name": "stdout",
          "text": [
            "1\n"
          ]
        }
      ],
      "source": [
        "def val(n):\n",
        "  fact=1\n",
        "  if n==0:\n",
        "    return 1\n",
        "  for i in range(1,n+1):\n",
        "    fact=fact*i\n",
        "  return fact\n",
        "\n",
        "print(val(0))"
      ]
    }
  ]
}